{
 "cells": [
  {
   "cell_type": "code",
   "execution_count": 1,
   "id": "ef1885a1-e92f-4746-b506-7290afae8775",
   "metadata": {},
   "outputs": [],
   "source": [
    "import pandas as pd\n",
    "import numpy as np\n",
    "\n",
    "aws_employees = pd.DataFrame({\n",
    "    \n",
    "    'age': [25, 30, 35, 28, 45, 32, 29, 38, 42, 27, \n",
    "            33, 36, 31, 40, 26, 34, 39, 41, 24, 37,\n",
    "            44, 23, 35, 150, 32],\n",
    "    \n",
    "    'salary': [155000, 145000, 185000, 105000, 320000, 175000, 110000, 240000, 280000, 98000,\n",
    "               145000, 195000, 125000, 265000, 128000, 180000, 235000, 340000, 85000, 170000,\n",
    "               380000, 225000, 160000, 450000, np.nan],\n",
    "    \n",
    "    'iq_score': [132, 128, 125, 128, 152, 173, 125, 142, 148, 110,\n",
    "                 125, 158, 122, 145, 108, 131, 144, 165, 106, 129,\n",
    "                 158, 104, 127, 169, 132],\n",
    "    \n",
    "    'team': ['SageMaker', 'Bedrock', 'Annapurna_Labs', 'SageMaker', 'Bedrock', \n",
    "                   'Open_Source', 'SageMaker', 'Redshift', 'Annapurna_Labs', 'SageMaker',\n",
    "                   'Bedrock', 'Open_Source', 'SageMaker', 'Redshift', 'Annapurna_Labs', \n",
    "                   'SageMaker', 'Bedrock', 'Open_Source', 'SageMaker', 'Redshift',\n",
    "                   'Annapurna_Labs', 'SageMaker', 'Bedrock', 'Open_Source', None],\n",
    "    \n",
    "    'level': ['L4', 'L5', 'L6', 'L4', 'L8', 'L6', 'L4', 'L7', 'L7', 'L4',\n",
    "                  'L5', 'L6', 'L5', 'L7', 'L4', 'L6', 'L7', 'L8', 'L4', 'L6',\n",
    "                  'L8', 'L4', 'L5', 'L8', 'L5']\n",
    "})"
   ]
  },
  {
   "cell_type": "code",
   "execution_count": null,
   "id": "f02c6c71-88b1-415a-aa29-9d06a55ea7ae",
   "metadata": {},
   "outputs": [],
   "source": []
  },
  {
   "cell_type": "code",
   "execution_count": null,
   "id": "c2eda498-460b-4655-964e-3b22d8d8756b",
   "metadata": {},
   "outputs": [],
   "source": [
    "x = [1,2,4,5,4,7,5,3]\n",
    "y = [4,3,5,3,1,5,4,6]"
   ]
  }
 ],
 "metadata": {
  "kernelspec": {
   "display_name": "Python 3 (ipykernel)",
   "language": "python",
   "name": "python3"
  },
  "language_info": {
   "codemirror_mode": {
    "name": "ipython",
    "version": 3
   },
   "file_extension": ".py",
   "mimetype": "text/x-python",
   "name": "python",
   "nbconvert_exporter": "python",
   "pygments_lexer": "ipython3",
   "version": "3.12.11"
  }
 },
 "nbformat": 4,
 "nbformat_minor": 5
}
