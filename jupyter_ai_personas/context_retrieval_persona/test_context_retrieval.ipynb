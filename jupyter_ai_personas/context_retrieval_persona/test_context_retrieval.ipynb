{
 "cells": [
  {
   "cell_type": "markdown",
   "metadata": {},
   "source": [
    "# Sales Data Analysis Test Notebook\n",
    "\n",
    "This notebook demonstrates a simple data science workflow for testing the context retrieval persona."
   ]
  },
  {
   "cell_type": "code",
   "execution_count": null,
   "metadata": {},
   "outputs": [],
   "source": [
    "import pandas as pd\n",
    "import numpy as np\n",
    "import matplotlib.pyplot as plt\n",
    "import seaborn as sns\n",
    "from sklearn.model_selection import train_test_split\n",
    "from sklearn.linear_model import LinearRegression\n",
    "from sklearn.metrics import mean_squared_error, r2_score"
   ]
  },
  {
   "cell_type": "code",
   "execution_count": null,
   "metadata": {},
   "outputs": [],
   "source": [
    "# Create sample sales data\n",
    "np.random.seed(42)\n",
    "n_samples = 1000\n",
    "\n",
    "data = {\n",
    "    'advertising_spend': np.random.uniform(1000, 50000, n_samples),\n",
    "    'sales_team_size': np.random.randint(5, 50, n_samples),\n",
    "    'market_size': np.random.uniform(100000, 1000000, n_samples),\n",
    "    'season': np.random.choice(['Q1', 'Q2', 'Q3', 'Q4'], n_samples)\n",
    "}\n",
    "\n",
    "# Generate revenue with some realistic relationships\n",
    "data['revenue'] = (\n",
    "    data['advertising_spend'] * 2.5 + \n",
    "    data['sales_team_size'] * 1000 + \n",
    "    data['market_size'] * 0.1 +\n",
    "    np.random.normal(0, 10000, n_samples)\n",
    ")\n",
    "\n",
    "df = pd.DataFrame(data)\n",
    "print(f\"Dataset shape: {df.shape}\")\n",
    "df.head()"
   ]
  },
  {
   "cell_type": "code",
   "execution_count": null,
   "metadata": {},
   "outputs": [],
   "source": [
    "# Prepare data for modeling\n",
    "# One-hot encode categorical variables\n",
    "df_encoded = pd.get_dummies(df, columns=['season'], prefix='season')\n",
    "\n",
    "# Define features and target\n",
    "feature_columns = [col for col in df_encoded.columns if col != 'revenue']\n",
    "X = df_encoded[feature_columns]\n",
    "y = df_encoded['revenue']\n",
    "\n",
    "print(f\"Features: {X.columns.tolist()}\")\n",
    "print(f\"Target: revenue\")\n",
    "print(f\"Feature matrix shape: {X.shape}\")"
   ]
  },
  {
   "cell_type": "code",
   "execution_count": null,
   "metadata": {},
   "outputs": [],
   "source": [
    "# Split the data\n",
    "X_train, X_test, y_train, y_test = train_test_split(\n",
    "    X, y, test_size=0.2, random_state=42\n",
    ")\n",
    "\n",
    "print(f\"Training set size: {X_train.shape[0]}\")\n",
    "print(f\"Test set size: {X_test.shape[0]}\")"
   ]
  },
  {
   "cell_type": "code",
   "execution_count": null,
   "metadata": {},
   "outputs": [],
   "source": [
    "# Train a simple linear regression model\n",
    "model = LinearRegression()\n",
    "model.fit(X_train, y_train)\n",
    "\n",
    "# Make predictions\n",
    "y_train_pred = model.predict(X_train)\n",
    "y_test_pred = model.predict(X_test)\n",
    "\n",
    "# Calculate metrics\n",
    "train_mse = mean_squared_error(y_train, y_train_pred)\n",
    "test_mse = mean_squared_error(y_test, y_test_pred)\n",
    "train_r2 = r2_score(y_train, y_train_pred)\n",
    "test_r2 = r2_score(y_test, y_test_pred)\n",
    "\n",
    "print(\"Model Performance:\")\n",
    "print(f\"Training MSE: {train_mse:,.2f}\")\n",
    "print(f\"Test MSE: {test_mse:,.2f}\")\n",
    "print(f\"Training R²: {train_r2:.4f}\")\n",
    "print(f\"Test R²: {test_r2:.4f}\")"
   ]
  }
 ],
 "metadata": {
  "kernelspec": {
   "display_name": "Python 3 (ipykernel)",
   "language": "python",
   "name": "python3"
  },
  "language_info": {
   "codemirror_mode": {
    "name": "ipython",
    "version": 3
   },
   "file_extension": ".py",
   "mimetype": "text/x-python",
   "name": "python",
   "nbconvert_exporter": "python",
   "pygments_lexer": "ipython3",
   "version": "3.12.11"
  }
 },
 "nbformat": 4,
 "nbformat_minor": 4
}
