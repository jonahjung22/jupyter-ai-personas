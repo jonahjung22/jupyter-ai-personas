{
 "cells": [
  {
   "cell_type": "code",
   "execution_count": null,
   "id": "5f4000c9",
   "metadata": {},
   "outputs": [],
   "source": [
    "import pandas\n",
    "import pandas as pd\n",
    "import numpy as np\n",
    "import matplotlib.pyplot as plt\n",
    "\n",
    "# Set random seed for reproducibility\n",
    "np.random.seed(42)\n",
    "\n",
    "print(\"Setup complete!\")"
   ]
  },
  {
   "cell_type": "code",
   "execution_count": null,
   "id": "8a445815",
   "metadata": {},
   "outputs": [],
   "source": [
    "# Create sample data\n",
    "# Generate sample dataset with pandas\n",
    "n_samples = 100\n",
    "\n",
    "data = {\n",
    "    'x': np.random.randn(n_samples),\n",
    "    'y': np.random.randn(n_samples) * 2 + 5,\n",
    "    'category': np.random.choice(['A', 'B', 'C'], n_samples)\n",
    "}\n",
    "\n",
    "df = pd.DataFrame(data)\n",
    "print(f\"Created DataFrame with {len(df)} rows\")\n",
    "print(\"\\nFirst 5 rows:\")\n",
    "df.head()"
   ]
  },
  {
   "cell_type": "code",
   "execution_count": null,
   "id": "9b493982",
   "metadata": {},
   "outputs": [],
   "source": [
    "# Visualize the data\n",
    "plt.figure(figsize=(10, 6))\n",
    "\n",
    "# Scatter plot colored by category\n",
    "for category in df['category'].unique():\n",
    "    mask = df['category'] == category\n",
    "    plt.scatter(df[mask]['x'], df[mask]['y'], label=f'Category {category}', alpha=0.6)\n",
    "\n",
    "plt.xlabel('X values')\n",
    "plt.ylabel('Y values')\n",
    "plt.title('Sample Data Distribution')\n",
    "plt.legend()\n",
    "plt.grid(True, alpha=0.3)\n",
    "plt.show()\n",
    "\n",
    "# Summary statistics\n",
    "print(\"\\nSummary statistics by category:\")\n",
    "df.groupby('category').agg(['mean', 'std']).round(2)"
   ]
  }
 ],
 "metadata": {
  "kernelspec": {
   "display_name": "Python 3 (ipykernel)",
   "language": "python",
   "name": "python3"
  },
  "language_info": {
   "codemirror_mode": {
    "name": "ipython",
    "version": 3
   },
   "file_extension": ".py",
   "mimetype": "text/x-python",
   "name": "python",
   "nbconvert_exporter": "python",
   "pygments_lexer": "ipython3",
   "version": "3.12.11"
  }
 },
 "nbformat": 4,
 "nbformat_minor": 5
}
